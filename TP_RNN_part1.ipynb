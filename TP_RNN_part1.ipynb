{
 "cells": [
  {
   "cell_type": "markdown",
   "metadata": {
    "id": "s47ui6p5rio4"
   },
   "source": [
    "# TP Recurrent Neural Network/LSTM : part. 1"
   ]
  },
  {
   "cell_type": "markdown",
   "metadata": {
    "id": "uTJ4T1b1ritu"
   },
   "source": [
    "#Imports"
   ]
  },
  {
   "cell_type": "code",
   "execution_count": null,
   "metadata": {
    "colab": {
     "base_uri": "https://localhost:8080/"
    },
    "id": "UATA40plrUIe",
    "outputId": "288eb8d6-ac72-41da-d073-a96d7151713f"
   },
   "outputs": [
    {
     "name": "stdout",
     "output_type": "stream",
     "text": [
      "Populating the interactive namespace from numpy and matplotlib\n"
     ]
    }
   ],
   "source": [
    "%pylab inline"
   ]
  },
  {
   "cell_type": "code",
   "execution_count": null,
   "metadata": {
    "id": "TNtx9mqLs_Pk"
   },
   "outputs": [],
   "source": [
    "import pandas as pd \n",
    "import pandas_datareader.data as data_reader\n",
    "from sklearn.preprocessing import MinMaxScaler\n",
    "from sklearn.metrics import r2_score, mean_squared_error\n",
    "from sklearn.model_selection import TimeSeriesSplit"
   ]
  },
  {
   "cell_type": "code",
   "execution_count": null,
   "metadata": {
    "id": "Xp1-inlEoO_S"
   },
   "outputs": [],
   "source": [
    "from keras.models import Sequential\n",
    "from keras.layers import Dense\n",
    "from keras.layers import LSTM\n",
    "from keras.layers import Dropout\n",
    "from keras.utils.vis_utils import plot_model\n",
    "from keras.models import model_from_json\n",
    "from tensorflow import keras"
   ]
  },
  {
   "cell_type": "code",
   "execution_count": null,
   "metadata": {
    "colab": {
     "base_uri": "https://localhost:8080/"
    },
    "id": "PoNuV3HkMJ44",
    "outputId": "1690d49c-0ddb-4969-c10b-c4bbc33aad6c"
   },
   "outputs": [
    {
     "name": "stdout",
     "output_type": "stream",
     "text": [
      "Collecting keras-tuner\n",
      "\u001b[?25l  Downloading https://files.pythonhosted.org/packages/20/ec/1ef246787174b1e2bb591c95f29d3c1310070cad877824f907faba3dade9/keras-tuner-1.0.2.tar.gz (62kB)\n",
      "\r",
      "\u001b[K     |█████▏                          | 10kB 14.2MB/s eta 0:00:01\r",
      "\u001b[K     |██████████▍                     | 20kB 18.9MB/s eta 0:00:01\r",
      "\u001b[K     |███████████████▋                | 30kB 14.6MB/s eta 0:00:01\r",
      "\u001b[K     |████████████████████▉           | 40kB 11.2MB/s eta 0:00:01\r",
      "\u001b[K     |██████████████████████████      | 51kB 7.3MB/s eta 0:00:01\r",
      "\u001b[K     |███████████████████████████████▎| 61kB 8.5MB/s eta 0:00:01\r",
      "\u001b[K     |████████████████████████████████| 71kB 4.4MB/s \n",
      "\u001b[?25hRequirement already satisfied, skipping upgrade: packaging in /usr/local/lib/python3.7/dist-packages (from keras-tuner) (20.9)\n",
      "Requirement already satisfied, skipping upgrade: future in /usr/local/lib/python3.7/dist-packages (from keras-tuner) (0.16.0)\n",
      "Requirement already satisfied, skipping upgrade: numpy in /usr/local/lib/python3.7/dist-packages (from keras-tuner) (1.19.5)\n",
      "Requirement already satisfied, skipping upgrade: tabulate in /usr/local/lib/python3.7/dist-packages (from keras-tuner) (0.8.9)\n",
      "Collecting terminaltables\n",
      "  Downloading https://files.pythonhosted.org/packages/9b/c4/4a21174f32f8a7e1104798c445dacdc1d4df86f2f26722767034e4de4bff/terminaltables-3.1.0.tar.gz\n",
      "Collecting colorama\n",
      "  Downloading https://files.pythonhosted.org/packages/44/98/5b86278fbbf250d239ae0ecb724f8572af1c91f4a11edf4d36a206189440/colorama-0.4.4-py2.py3-none-any.whl\n",
      "Requirement already satisfied, skipping upgrade: tqdm in /usr/local/lib/python3.7/dist-packages (from keras-tuner) (4.41.1)\n",
      "Requirement already satisfied, skipping upgrade: requests in /usr/local/lib/python3.7/dist-packages (from keras-tuner) (2.23.0)\n",
      "Requirement already satisfied, skipping upgrade: scipy in /usr/local/lib/python3.7/dist-packages (from keras-tuner) (1.4.1)\n",
      "Requirement already satisfied, skipping upgrade: scikit-learn in /usr/local/lib/python3.7/dist-packages (from keras-tuner) (0.22.2.post1)\n",
      "Requirement already satisfied, skipping upgrade: pyparsing>=2.0.2 in /usr/local/lib/python3.7/dist-packages (from packaging->keras-tuner) (2.4.7)\n",
      "Requirement already satisfied, skipping upgrade: idna<3,>=2.5 in /usr/local/lib/python3.7/dist-packages (from requests->keras-tuner) (2.10)\n",
      "Requirement already satisfied, skipping upgrade: certifi>=2017.4.17 in /usr/local/lib/python3.7/dist-packages (from requests->keras-tuner) (2020.12.5)\n",
      "Requirement already satisfied, skipping upgrade: chardet<4,>=3.0.2 in /usr/local/lib/python3.7/dist-packages (from requests->keras-tuner) (3.0.4)\n",
      "Requirement already satisfied, skipping upgrade: urllib3!=1.25.0,!=1.25.1,<1.26,>=1.21.1 in /usr/local/lib/python3.7/dist-packages (from requests->keras-tuner) (1.24.3)\n",
      "Requirement already satisfied, skipping upgrade: joblib>=0.11 in /usr/local/lib/python3.7/dist-packages (from scikit-learn->keras-tuner) (1.0.1)\n",
      "Building wheels for collected packages: keras-tuner, terminaltables\n",
      "  Building wheel for keras-tuner (setup.py) ... \u001b[?25l\u001b[?25hdone\n",
      "  Created wheel for keras-tuner: filename=keras_tuner-1.0.2-cp37-none-any.whl size=78938 sha256=3864b4de4585bd604fecbee4086ecba45e1c2fd735f8df57a6d4a59b913de692\n",
      "  Stored in directory: /root/.cache/pip/wheels/bb/a1/8a/7c3de0efb3707a1701b36ebbfdbc4e67aedf6d4943a1f463d6\n",
      "  Building wheel for terminaltables (setup.py) ... \u001b[?25l\u001b[?25hdone\n",
      "  Created wheel for terminaltables: filename=terminaltables-3.1.0-cp37-none-any.whl size=15356 sha256=513285a2ce545c9cd00f1ee8314722893b5b4206a4aba852e82e356653a18d8e\n",
      "  Stored in directory: /root/.cache/pip/wheels/30/6b/50/6c75775b681fb36cdfac7f19799888ef9d8813aff9e379663e\n",
      "Successfully built keras-tuner terminaltables\n",
      "Installing collected packages: terminaltables, colorama, keras-tuner\n",
      "Successfully installed colorama-0.4.4 keras-tuner-1.0.2 terminaltables-3.1.0\n"
     ]
    }
   ],
   "source": [
    "!pip install -U keras-tuner"
   ]
  },
  {
   "cell_type": "code",
   "execution_count": null,
   "metadata": {
    "id": "979svrXNMKn1"
   },
   "outputs": [],
   "source": [
    "from kerastuner.tuners import RandomSearch\n",
    "from kerastuner import Objective"
   ]
  },
  {
   "cell_type": "code",
   "execution_count": null,
   "metadata": {
    "colab": {
     "base_uri": "https://localhost:8080/"
    },
    "id": "5BWrq0DMM5q9",
    "outputId": "57e0180e-bbb2-4d0e-f03e-ab29a8b7e207"
   },
   "outputs": [
    {
     "name": "stdout",
     "output_type": "stream",
     "text": [
      "Mounted at /content/drive\n"
     ]
    }
   ],
   "source": [
    "from google.colab import drive\n",
    "drive.mount('/content/drive')"
   ]
  },
  {
   "cell_type": "markdown",
   "metadata": {
    "id": "xBrV1-uvriwk"
   },
   "source": [
    "#Data Importation"
   ]
  },
  {
   "cell_type": "code",
   "execution_count": null,
   "metadata": {
    "id": "HIHrlkpVtI1P"
   },
   "outputs": [],
   "source": [
    "data_train = data_reader.get_data_yahoo(\"SAN.PA\", \"3/1/2017\", \"29/1/2021\")['Close']\n",
    "data_test = data_reader.get_data_yahoo(\"SAN.PA\", \"1/2/2021\", \"26/2/2021\")['Close']"
   ]
  },
  {
   "cell_type": "code",
   "execution_count": null,
   "metadata": {
    "colab": {
     "base_uri": "https://localhost:8080/"
    },
    "id": "hob2exuMuidD",
    "outputId": "37dedc6f-31f2-45bf-bd27-bf84e7a37642"
   },
   "outputs": [
    {
     "name": "stdout",
     "output_type": "stream",
     "text": [
      "Train Dimensions:  (1001,)\n",
      "Test Dimensions:  (40,)\n"
     ]
    }
   ],
   "source": [
    "print(\"Train Dimensions: \", data_train.shape)\n",
    "print(\"Test Dimensions: \", data_test.shape)"
   ]
  },
  {
   "cell_type": "code",
   "execution_count": null,
   "metadata": {
    "colab": {
     "base_uri": "https://localhost:8080/"
    },
    "id": "kEghx0K0uyXq",
    "outputId": "34dc99fb-24fb-45c6-e6dd-4306472d82c4"
   },
   "outputs": [
    {
     "data": {
      "text/plain": [
       "Date\n",
       "2017-03-01    82.820000\n",
       "2017-03-02    82.639999\n",
       "2017-03-03    83.589996\n",
       "2017-03-06    82.449997\n",
       "2017-03-07    81.800003\n",
       "Name: Close, dtype: float64"
      ]
     },
     "execution_count": 9,
     "metadata": {
      "tags": []
     },
     "output_type": "execute_result"
    }
   ],
   "source": [
    "data_train.head()"
   ]
  },
  {
   "cell_type": "code",
   "execution_count": null,
   "metadata": {
    "colab": {
     "base_uri": "https://localhost:8080/"
    },
    "id": "2i_8LxuYvAPW",
    "outputId": "e2b90cc5-2a01-4e90-d63d-7183c1fb0916"
   },
   "outputs": [
    {
     "data": {
      "text/plain": [
       "Date\n",
       "2021-01-04    79.000000\n",
       "2021-01-05    78.989998\n",
       "2021-01-06    78.510002\n",
       "2021-01-07    77.720001\n",
       "2021-01-08    78.790001\n",
       "Name: Close, dtype: float64"
      ]
     },
     "execution_count": 10,
     "metadata": {
      "tags": []
     },
     "output_type": "execute_result"
    }
   ],
   "source": [
    "data_test.head()"
   ]
  },
  {
   "cell_type": "code",
   "execution_count": null,
   "metadata": {
    "colab": {
     "base_uri": "https://localhost:8080/"
    },
    "id": "zQieE4W_5e8T",
    "outputId": "0fb1c171-261c-44a8-ce5a-594a5ac491c6"
   },
   "outputs": [
    {
     "name": "stdout",
     "output_type": "stream",
     "text": [
      "Train missing values : 0\n",
      "Test missing values : 0\n"
     ]
    }
   ],
   "source": [
    "print(\"Train missing values :\", data_train.isna().sum())\n",
    "print(\"Test missing values :\", data_test.isna().sum())"
   ]
  },
  {
   "cell_type": "markdown",
   "metadata": {
    "id": "yOQmUzAorizt"
   },
   "source": [
    "Importation ok. **No Missing values**."
   ]
  },
  {
   "cell_type": "markdown",
   "metadata": {
    "id": "LYW27cnLwNzz"
   },
   "source": [
    "#Univariate analysis"
   ]
  },
  {
   "cell_type": "markdown",
   "metadata": {
    "id": "AlNOjtvUxYkv"
   },
   "source": [
    "## Basic statistics"
   ]
  },
  {
   "cell_type": "code",
   "execution_count": null,
   "metadata": {
    "colab": {
     "base_uri": "https://localhost:8080/"
    },
    "id": "ALay4Wl6xIob",
    "outputId": "4df82664-184c-41c8-99cd-94d8b3df453d"
   },
   "outputs": [
    {
     "data": {
      "text/plain": [
       "count    1001.000000\n",
       "mean       79.629690\n",
       "std         7.338636\n",
       "min        63.209999\n",
       "25%        74.500000\n",
       "50%        79.480003\n",
       "75%        85.059998\n",
       "max        94.290001\n",
       "Name: Close, dtype: float64"
      ]
     },
     "execution_count": 9,
     "metadata": {
      "tags": []
     },
     "output_type": "execute_result"
    }
   ],
   "source": [
    "data_train.describe()"
   ]
  },
  {
   "cell_type": "code",
   "execution_count": null,
   "metadata": {
    "colab": {
     "base_uri": "https://localhost:8080/"
    },
    "id": "rQQwKNa8xLlI",
    "outputId": "246c4c3c-a631-49bf-cd5c-d70fa2f1be07"
   },
   "outputs": [
    {
     "data": {
      "text/plain": [
       "count    40.000000\n",
       "mean     79.067750\n",
       "std       1.834064\n",
       "min      75.650002\n",
       "25%      77.982500\n",
       "50%      78.910000\n",
       "75%      80.627501\n",
       "max      83.230003\n",
       "Name: Close, dtype: float64"
      ]
     },
     "execution_count": 10,
     "metadata": {
      "tags": []
     },
     "output_type": "execute_result"
    }
   ],
   "source": [
    "data_test.describe()"
   ]
  },
  {
   "cell_type": "markdown",
   "metadata": {
    "id": "vpeMFkKNxhCe"
   },
   "source": [
    "## Univariate distribution according to time"
   ]
  },
  {
   "cell_type": "code",
   "execution_count": null,
   "metadata": {
    "colab": {
     "base_uri": "https://localhost:8080/"
    },
    "id": "zegM90O96bxy",
    "outputId": "1c59dd73-6bd3-408d-dccd-30c33bd02780"
   },
   "outputs": [
    {
     "data": {
      "text/plain": [
       "Date\n",
       "2017-03-01    82.820000\n",
       "2017-03-02    82.639999\n",
       "2017-03-03    83.589996\n",
       "2017-03-06    82.449997\n",
       "2017-03-07    81.800003\n",
       "                ...    \n",
       "2021-01-25    81.500000\n",
       "2021-01-26    81.070000\n",
       "2021-01-27    79.070000\n",
       "2021-01-28    79.089996\n",
       "2021-01-29    77.150002\n",
       "Name: Close, Length: 1001, dtype: float64"
      ]
     },
     "execution_count": 11,
     "metadata": {
      "tags": []
     },
     "output_type": "execute_result"
    }
   ],
   "source": [
    "data_train"
   ]
  },
  {
   "cell_type": "code",
   "execution_count": null,
   "metadata": {
    "id": "8_KdVQUUxfjY"
   },
   "outputs": [],
   "source": [
    "def plot_time_series(data_train, data_test, name = 'Close'):\n",
    "\n",
    "    _ = data_test \\\n",
    "    .rename(columns={name: 'TEST SET'}) \\\n",
    "    .join(data_train.rename(columns={name: 'TRAINING SET'}), how='outer') \\\n",
    "    .plot(figsize=(15,5), style='-')\n",
    "    title(name)\n",
    "    show()"
   ]
  },
  {
   "cell_type": "code",
   "execution_count": null,
   "metadata": {
    "colab": {
     "base_uri": "https://localhost:8080/"
    },
    "id": "-dv72To_wRyI",
    "outputId": "41a3a361-2511-42a0-c12e-b76e038b6b46"
   },
   "outputs": [
    {
     "data": {
      "image/png": "[encoded data removed]",
      "text/plain": [
       "<Figure size 1080x360 with 1 Axes>"
      ]
     },
     "metadata": {
      "needs_background": "light",
      "tags": []
     },
     "output_type": "display_data"
    }
   ],
   "source": [
    "plot_time_series(data_train = pd.DataFrame(data_train, columns = ['Close']), data_test = pd.DataFrame(data_test, columns = ['Close']))"
   ]
  },
  {
   "cell_type": "markdown",
   "metadata": {
    "id": "Uk26DqiH9hhz"
   },
   "source": [
    "# Preprocessor\n",
    "\n"
   ]
  },
  {
   "cell_type": "markdown",
   "metadata": {
    "id": "EYRZvgBtJ6fe"
   },
   "source": [
    "## Removing date information"
   ]
  },
  {
   "cell_type": "code",
   "execution_count": null,
   "metadata": {
    "id": "yaRL6zlRIi0H"
   },
   "outputs": [],
   "source": [
    "y_test = array(data_test.copy())"
   ]
  },
  {
   "cell_type": "markdown",
   "metadata": {
    "id": "FQnEuqDyMB3l"
   },
   "source": [
    "## Add lag"
   ]
  },
  {
   "cell_type": "code",
   "execution_count": null,
   "metadata": {
    "id": "bPGtKi7iL45e"
   },
   "outputs": [],
   "source": [
    "def get_Xy(data, lag = 60):\n",
    "  X = []\n",
    "  y = array(data.copy())\n",
    "\n",
    "  assert lag + 1 < data.shape[0], 'Too much lag!'\n",
    "\n",
    "  for i in range(1, lag + 1):\n",
    "    X.append(array(data.shift(i)))\n",
    "\n",
    "  df = pd.DataFrame(array(X)).transpose()\n",
    "  df = df.dropna()\n",
    "  #print(df)\n",
    "\n",
    "  return df.values, y[lag:], "
   ]
  },
  {
   "cell_type": "code",
   "execution_count": null,
   "metadata": {
    "id": "v4XIMm_AZN2L"
   },
   "outputs": [],
   "source": [
    "X_train, y_train = get_Xy(data_train, 60)"
   ]
  },
  {
   "cell_type": "code",
   "execution_count": null,
   "metadata": {
    "colab": {
     "base_uri": "https://localhost:8080/"
    },
    "id": "FJPb5BYnZj8M",
    "outputId": "3a608807-a2d5-476e-8181-526750bc369b"
   },
   "outputs": [
    {
     "data": {
      "text/plain": [
       "(941, 60)"
      ]
     },
     "execution_count": 15,
     "metadata": {
      "tags": []
     },
     "output_type": "execute_result"
    }
   ],
   "source": [
    "X_train.shape"
   ]
  },
  {
   "cell_type": "code",
   "execution_count": null,
   "metadata": {
    "colab": {
     "base_uri": "https://localhost:8080/"
    },
    "id": "S3H0OYzNZmIe",
    "outputId": "4d9cf14e-97d4-4782-c119-260b3c4a23bd"
   },
   "outputs": [
    {
     "data": {
      "text/plain": [
       "(941,)"
      ]
     },
     "execution_count": 16,
     "metadata": {
      "tags": []
     },
     "output_type": "execute_result"
    }
   ],
   "source": [
    "y_train.shape"
   ]
  },
  {
   "cell_type": "markdown",
   "metadata": {
    "id": "Spim87zHe2q7"
   },
   "source": [
    "## Min/max scaling"
   ]
  },
  {
   "cell_type": "code",
   "execution_count": null,
   "metadata": {
    "id": "PJ5o725he5BD"
   },
   "outputs": [],
   "source": [
    "min_y = min(y_train)\n",
    "max_y = max(y_train)\n",
    "y_train = (y_train - min(y_train))/(max(y_train) - min(y_train))\n",
    "\n",
    "scaler_X = MinMaxScaler()\n",
    "X_train = scaler_X.fit_transform(X_train)"
   ]
  },
  {
   "cell_type": "code",
   "execution_count": null,
   "metadata": {
    "colab": {
     "base_uri": "https://localhost:8080/"
    },
    "id": "38UuYLidjUe7",
    "outputId": "bd33ea1d-83e2-417b-b9e6-39987895a729"
   },
   "outputs": [
    {
     "data": {
      "text/plain": [
       "array([[0.78925345, 0.77541818, 0.78474897, ..., 0.65572703, 0.62516085,\n",
       "        0.63095236],\n",
       "       [0.78539261, 0.78925345, 0.77541818, ..., 0.61904751, 0.65572703,\n",
       "        0.62516085],\n",
       "       [0.78346194, 0.78539261, 0.78925345, ..., 0.59813394, 0.61904751,\n",
       "        0.65572703],\n",
       "       ...,\n",
       "       [0.57464606, 0.58848133, 0.5871943 , ..., 0.75933067, 0.59362946,\n",
       "        0.52027018],\n",
       "       [0.510296  , 0.57464606, 0.58848133, ..., 0.72265115, 0.75933067,\n",
       "        0.59362946],\n",
       "       [0.51093939, 0.510296  , 0.57464606, ..., 0.64703988, 0.72265115,\n",
       "        0.75933067]])"
      ]
     },
     "execution_count": 18,
     "metadata": {
      "tags": []
     },
     "output_type": "execute_result"
    }
   ],
   "source": [
    "X_train"
   ]
  },
  {
   "cell_type": "code",
   "execution_count": null,
   "metadata": {
    "colab": {
     "base_uri": "https://localhost:8080/"
    },
    "id": "b1f1KFZhkPRv",
    "outputId": "f8185ec1-bb8c-4432-8e04-cd9349c3de7b"
   },
   "outputs": [
    {
     "data": {
      "text/plain": [
       "array([0.78539261, 0.78346194, 0.80308873, 0.79375794, 0.82561139,\n",
       "       0.81981988, 0.79214933, 0.73584303, 0.73262558, 0.73777345,\n",
       "       0.69626764, 0.71203333, 0.69658945, 0.71653806, 0.70302436,\n",
       "       0.75579139, 0.75965248, 0.75128691, 0.81853285, 0.79343636,\n",
       "       0.82014145, 0.78571418, 0.75579139, 0.68629345, 0.66119697,\n",
       "       0.67535382, 0.66441442, 0.67599745, 0.63577867, 0.65797952,\n",
       "       0.66570146, 0.64832691, 0.73198194, 0.70817249, 0.68758049,\n",
       "       0.662484  , 0.623552  , 0.61229079, 0.62934351, 0.58912473,\n",
       "       0.60167321, 0.62612606, 0.61518667, 0.61132558, 0.59137697,\n",
       "       0.56338485, 0.53024461, 0.54086218, 0.55373224, 0.59202061,\n",
       "       0.59427285, 0.61036036, 0.5672457 , 0.56595891, 0.55952376,\n",
       "       0.57786351, 0.59716848, 0.62323042, 0.62902194, 0.61293443,\n",
       "       0.60135139, 0.61229079, 0.59813394, 0.61229079, 0.6077863 ,\n",
       "       0.59909915, 0.58590727, 0.56435006, 0.59362946, 0.62741309,\n",
       "       0.6061777 , 0.60263843, 0.61679527, 0.60231661, 0.61132558,\n",
       "       0.58526388, 0.60585588, 0.59491624, 0.60649927, 0.58429867,\n",
       "       0.58912473, 0.61261261, 0.61422146, 0.66473624, 0.67278   ,\n",
       "       0.68951091, 0.68693685, 0.68629345, 0.6695623 , 0.66924073,\n",
       "       0.70495503, 0.68951091, 0.70109394, 0.72297297, 0.74163455,\n",
       "       0.73487782, 0.69240679, 0.68243236, 0.67535382, 0.65604885,\n",
       "       0.68629345, 0.66537964, 0.68532824, 0.67728449, 0.66280557,\n",
       "       0.68146715, 0.65637067, 0.58590727, 0.60456885, 0.61357782,\n",
       "       0.59234243, 0.58172461, 0.55727151, 0.5254183 , 0.50868715,\n",
       "       0.52734873, 0.49742594, 0.50353927, 0.469112  , 0.45752897,\n",
       "       0.42535394, 0.39897042, 0.39800521, 0.41055346, 0.39317891,\n",
       "       0.40347491, 0.42567576, 0.43436291, 0.46106824, 0.45817236,\n",
       "       0.44079806, 0.45495491, 0.4430503 , 0.43082364, 0.37355212,\n",
       "       0.38256109, 0.34620339, 0.32303733, 0.3217503 , 0.32078509,\n",
       "       0.33365515, 0.38030885, 0.36840424, 0.33976824, 0.33268994,\n",
       "       0.35360351, 0.32142848, 0.31306315, 0.31113248, 0.30051491,\n",
       "       0.29954945, 0.28764485, 0.27799224, 0.27509661, 0.28507079,\n",
       "       0.31499358, 0.35875164, 0.35842982, 0.35489054, 0.32593297,\n",
       "       0.31177612, 0.33655079, 0.32142848, 0.32786364, 0.31081091,\n",
       "       0.2947234 , 0.31338473, 0.24517382, 0.25643503, 0.28281855,\n",
       "       0.2908623 , 0.3304377 , 0.31177612, 0.29279273, 0.25450461,\n",
       "       0.23005152, 0.21685964, 0.18693685, 0.1386743 , 0.11261261,\n",
       "       0.06048897, 0.00579152, 0.03474909, 0.01158303, 0.02187903,\n",
       "       0.00933079, 0.04150582, 0.03507091, 0.04311467, 0.04794073,\n",
       "       0.05405406, 0.05920218, 0.07432424, 0.07625491, 0.05855855,\n",
       "       0.04633212, 0.00611333, 0.04150582, 0.01576582, 0.02799236,\n",
       "       0.0546977 , 0.07625491, 0.08268982, 0.06917636, 0.06531527,\n",
       "       0.09716873, 0.09523806, 0.09523806, 0.08333346, 0.05855855,\n",
       "       0.04568848, 0.01608752, 0.        , 0.02284424, 0.04954958,\n",
       "       0.06821115, 0.03732315, 0.03989697, 0.09330764, 0.09298582,\n",
       "       0.10424703, 0.12194339, 0.09555988, 0.09942097, 0.08944654,\n",
       "       0.09137721, 0.10296024, 0.08365503, 0.0768983 , 0.0666023 ,\n",
       "       0.08043758, 0.07110679, 0.0855857 , 0.09974254, 0.06274146,\n",
       "       0.08301164, 0.08526388, 0.06402824, 0.07368085, 0.08462024,\n",
       "       0.08687273, 0.09813394, 0.09395103, 0.01705285, 0.03828836,\n",
       "       0.0460103 , 0.06209782, 0.09362946, 0.10392546, 0.09555988,\n",
       "       0.10167321, 0.09716873, 0.08268982, 0.08268982, 0.07432424,\n",
       "       0.08268982, 0.09298582, 0.07786351, 0.10231661, 0.10263843,\n",
       "       0.09523806, 0.0752897 , 0.09202061, 0.10360364, 0.11711709,\n",
       "       0.0958817 , 0.09523806, 0.13256121, 0.17599745, 0.16216218,\n",
       "       0.14350061, 0.16409261, 0.14478764, 0.18661527, 0.193372  ,\n",
       "       0.19176315, 0.19176315, 0.16924073, 0.17503224, 0.17985855,\n",
       "       0.2187903 , 0.24903467, 0.29697564, 0.29890606, 0.26866145,\n",
       "       0.2709137 , 0.25546982, 0.29021891, 0.27992291, 0.27187915,\n",
       "       0.27767042, 0.29922788, 0.28635782, 0.29440158, 0.29826267,\n",
       "       0.30952388, 0.32818546, 0.34877746, 0.36550836, 0.34555976,\n",
       "       0.35907346, 0.39864861, 0.36325612, 0.35038606, 0.33815964,\n",
       "       0.34588158, 0.34555976, 0.3201417 , 0.33783782, 0.33075927,\n",
       "       0.31016727, 0.28796667, 0.30405418, 0.32464618, 0.32882885,\n",
       "       0.35907346, 0.37355212, 0.37033467, 0.36969103, 0.36711721,\n",
       "       0.358108  , 0.37741321, 0.36583018, 0.34684679, 0.36325612,\n",
       "       0.31981988, 0.30051491, 0.2915057 , 0.31402836, 0.33075927,\n",
       "       0.32368073, 0.36679539, 0.40122267, 0.39961382, 0.38256109,\n",
       "       0.37612618, 0.38320473, 0.36872582, 0.36325612, 0.34266412,\n",
       "       0.36679539, 0.39510933, 0.44079806, 0.42953661, 0.46106824,\n",
       "       0.44144145, 0.45463309, 0.42277988, 0.41248388, 0.39639636,\n",
       "       0.39832679, 0.43211067, 0.39285709, 0.34009006, 0.38867442,\n",
       "       0.42471055, 0.45045042, 0.46943382, 0.46943382, 0.4533463 ,\n",
       "       0.44433709, 0.41537976, 0.40025746, 0.36196909, 0.36100388,\n",
       "       0.39768339, 0.50289563, 0.50836558, 0.46782497, 0.49646073,\n",
       "       0.46299867, 0.49774776, 0.51801794, 0.5466537 , 0.52702691,\n",
       "       0.54697551, 0.52348788, 0.48326909, 0.51544412, 0.49356509,\n",
       "       0.50611333, 0.49163442, 0.48519952, 0.52348788, 0.5048263 ,\n",
       "       0.49324327, 0.51705273, 0.50386109, 0.53410545, 0.48294727,\n",
       "       0.51093939, 0.47812097, 0.39929224, 0.42921503, 0.44079806,\n",
       "       0.47876436, 0.53346206, 0.4951737 , 0.48359067, 0.45720715,\n",
       "       0.41827539, 0.43758036, 0.41634497, 0.40122267, 0.35489054,\n",
       "       0.33944667, 0.38642218, 0.40057927, 0.3922137 , 0.36840424,\n",
       "       0.39028303, 0.34202048, 0.36068206, 0.35135127, 0.35296012,\n",
       "       0.35135127, 0.31177612, 0.35328194, 0.35714279, 0.33783782,\n",
       "       0.31241951, 0.31788921, 0.3201417 , 0.31467176, 0.31402836,\n",
       "       0.32400255, 0.32528958, 0.36679539, 0.36840424, 0.40572715,\n",
       "       0.3922137 , 0.41344909, 0.43854557, 0.4128057 , 0.37387394,\n",
       "       0.38770921, 0.39028303, 0.39639636, 0.34330751, 0.32754182,\n",
       "       0.38706557, 0.39189188, 0.36872582, 0.35360351, 0.31821103,\n",
       "       0.3011583 , 0.306628  , 0.306628  , 0.30630643, 0.33108109,\n",
       "       0.34716861, 0.38030885, 0.42535394, 0.43018024, 0.43211067,\n",
       "       0.43661515, 0.44240667, 0.45656376, 0.46943382, 0.48712994,\n",
       "       0.52574012, 0.5151223 , 0.52574012, 0.52091382, 0.53185321,\n",
       "       0.48584291, 0.4745817 , 0.48648655, 0.46589455, 0.49871297,\n",
       "       0.49967818, 0.50321745, 0.5157657 , 0.49871297, 0.49420848,\n",
       "       0.49163442, 0.49163442, 0.48391248, 0.4745817 , 0.44819818,\n",
       "       0.3922137 , 0.37934364, 0.38256109, 0.316924  , 0.31081091,\n",
       "       0.3526383 , 0.358108  , 0.33494218, 0.41795357, 0.45945939,\n",
       "       0.45945939, 0.44465891, 0.4636423 , 0.43436291, 0.41891903,\n",
       "       0.42213649, 0.32722   , 0.30598461, 0.31370655, 0.32786364,\n",
       "       0.34137709, 0.38063067, 0.386744  , 0.358108  , 0.34555976,\n",
       "       0.37612618, 0.37612618, 0.38449176, 0.39768339, 0.35489054,\n",
       "       0.32335915, 0.32110691, 0.29054048, 0.33912485, 0.33687261,\n",
       "       0.33783782, 0.37998703, 0.48616473, 0.4533463 , 0.41473612,\n",
       "       0.42985842, 0.41087527, 0.41087527, 0.39446594, 0.458816  ,\n",
       "       0.47200764, 0.48648655, 0.46557273, 0.44755479, 0.44530255,\n",
       "       0.40894461, 0.40122267, 0.40862303, 0.438224  , 0.44658933,\n",
       "       0.48359067, 0.47490352, 0.46943382, 0.44272849, 0.45945939,\n",
       "       0.42921503, 0.38256109, 0.33108109, 0.34041188, 0.35746461,\n",
       "       0.35521236, 0.34716861, 0.36550836, 0.39253552, 0.40701418,\n",
       "       0.40283152, 0.3922137 , 0.40990982, 0.44691115, 0.39800521,\n",
       "       0.39414412, 0.39510933, 0.35424715, 0.29407976, 0.29054048,\n",
       "       0.3050194 , 0.36679539, 0.33912485, 0.34137709, 0.3922137 ,\n",
       "       0.39317891, 0.37387394, 0.41119685, 0.45141564, 0.44562412,\n",
       "       0.47361648, 0.44433709, 0.43500655, 0.44208485, 0.47168606,\n",
       "       0.45913782, 0.47651212, 0.47972982, 0.52509648, 0.57400267,\n",
       "       0.57561127, 0.57850715, 0.59137697, 0.51640933, 0.50032182,\n",
       "       0.51319188, 0.53281842, 0.52509648, 0.51093939, 0.54021879,\n",
       "       0.54729733, 0.58590727, 0.64703988, 0.65894473, 0.70398957,\n",
       "       0.69691127, 0.7091377 , 0.70302436, 0.70302436, 0.65476182,\n",
       "       0.561776  , 0.57882873, 0.61100376, 0.61422146, 0.60907333,\n",
       "       0.59974254, 0.60167321, 0.6061777 , 0.5855857 , 0.61904751,\n",
       "       0.62644788, 0.65990994, 0.63030897, 0.63030897, 0.60682109,\n",
       "       0.60360364, 0.65347479, 0.64961394, 0.6489703 , 0.67438861,\n",
       "       0.70045055, 0.62451746, 0.59073358, 0.62709127, 0.62902194,\n",
       "       0.64575285, 0.61615188, 0.63674388, 0.64221357, 0.66377079,\n",
       "       0.63577867, 0.59427285, 0.63931794, 0.68211079, 0.64028315,\n",
       "       0.63288279, 0.69787649, 0.66891891, 0.70205915, 0.68500642,\n",
       "       0.68114533, 0.68371939, 0.68532824, 0.62129976, 0.60682109,\n",
       "       0.66537964, 0.64092654, 0.65476182, 0.60006436, 0.75450461,\n",
       "       0.79601018, 0.81402836, 0.83462036, 0.88127406, 0.84909903,\n",
       "       0.86196909, 0.86486473, 0.88963964, 0.88481333, 0.88223927,\n",
       "       0.88223927, 0.888996  , 0.85392533, 0.84974267, 0.86904764,\n",
       "       0.88706557, 0.90540533, 0.89510933, 0.90508351, 0.92631915,\n",
       "       0.94948521, 0.92857139, 0.90283127, 0.91731018, 0.91377091,\n",
       "       0.93243249, 0.9231017 , 0.90572715, 0.82561139, 0.83655079,\n",
       "       0.83333333, 0.75579139, 0.78700121, 0.81917624, 0.79311455,\n",
       "       0.76383515, 0.78474897, 0.81563697, 0.85971685, 0.979408  ,\n",
       "       0.97715576, 0.97361648, 0.98841697, 0.95624194, 0.93854557,\n",
       "       0.93404109, 0.93629333, 0.98133842, 0.99066921, 0.9745817 ,\n",
       "       0.969112  , 0.91248388, 0.87612618, 0.89092667, 0.81177612,\n",
       "       0.66666667, 0.72007709, 0.7361646 , 0.84845564, 0.84491636,\n",
       "       0.70302436, 0.53796655, 0.48777358, 0.52831394, 0.32915067,\n",
       "       0.32818546, 0.43082364, 0.49034739, 0.41473612, 0.40765757,\n",
       "       0.3423423 , 0.2844274 , 0.37097806, 0.43725879, 0.46621612,\n",
       "       0.4436937 , 0.55662812, 0.54472327, 0.50611333, 0.52348788,\n",
       "       0.58397685, 0.69562424, 0.66891891, 0.60456885, 0.60875151,\n",
       "       0.62548267, 0.63063054, 0.69562424, 0.75160873, 0.81048909,\n",
       "       0.80051466, 0.80276715, 0.82625479, 0.8922137 , 0.97136424,\n",
       "       0.93243249, 0.88449151, 0.83590739, 0.81113248, 0.88449151,\n",
       "       0.93983261, 0.88610036, 0.84813382, 0.82722   , 0.89446594,\n",
       "       0.84555976, 0.80341055, 0.77252255, 0.78346194, 0.76029588,\n",
       "       0.78925345, 0.76512218, 0.76093952, 0.78700121, 0.7503217 ,\n",
       "       0.73906048, 0.81402836, 0.78249673, 0.81981988, 0.82400255,\n",
       "       0.82335915, 0.82496776, 0.83494218, 0.85167309, 0.87676958,\n",
       "       0.88416994, 0.83687261, 0.83043745, 0.83590739, 0.89639636,\n",
       "       0.98133842, 0.93661515, 0.9945303 , 0.95945939, 0.96782497,\n",
       "       0.89607454, 0.92181467, 0.89736157, 0.91151867, 0.88288291,\n",
       "       0.89736157, 0.92503212, 0.89414412, 0.94208485, 0.91537976,\n",
       "       0.87998703, 0.83558558, 0.82722   , 0.89350073, 0.90990982,\n",
       "       0.98005139, 0.95592012, 0.96557273, 1.        , 0.94948521,\n",
       "       0.91055346, 0.89736157, 0.82368073, 0.83365515, 0.84588158,\n",
       "       0.85939503, 0.81531539, 0.81531539, 0.87033467, 0.80437576,\n",
       "       0.78088812, 0.74613903, 0.77767042, 0.75643503, 0.78571418,\n",
       "       0.80405394, 0.76512218, 0.71589442, 0.7496783 , 0.77767042,\n",
       "       0.786036  , 0.76447879, 0.74420836, 0.77927927, 0.78700121,\n",
       "       0.7812097 , 0.73809527, 0.70205915, 0.69691127, 0.66602327,\n",
       "       0.70688545, 0.68211079, 0.65508364, 0.71814667, 0.72361636,\n",
       "       0.80148012, 0.75546982, 0.78281855, 0.76737442, 0.82142848,\n",
       "       0.80566279, 0.79858424, 0.81177612, 0.72940788, 0.693372  ,\n",
       "       0.76737442, 0.76994848, 0.75289576, 0.77574   , 0.73906048,\n",
       "       0.71171176, 0.71074655, 0.73584303, 0.74999988, 0.69691127,\n",
       "       0.66602327, 0.71010291, 0.74324315, 0.74935648, 0.78217491,\n",
       "       0.76833963, 0.69047612, 0.73423418, 0.71525103, 0.68886752,\n",
       "       0.64832691, 0.6283783 , 0.63481346, 0.63095236, 0.57239382,\n",
       "       0.50933079, 0.48326909, 0.45559855, 0.52027018, 0.59362946,\n",
       "       0.75933067, 0.72265115, 0.64703988, 0.6988417 , 0.69111976,\n",
       "       0.77413115, 0.74356497, 0.72683406, 0.71814667, 0.69530242,\n",
       "       0.7361646 , 0.72168594, 0.72844267, 0.67181454, 0.67567564,\n",
       "       0.67599745, 0.71299879, 0.70785067, 0.69176315, 0.67213636,\n",
       "       0.67020594, 0.63770909, 0.65604885, 0.63095236, 0.61679527,\n",
       "       0.58912473, 0.59781212, 0.49259964, 0.47104242, 0.41891903,\n",
       "       0.4642857 , 0.47586873, 0.50836558, 0.4501286 , 0.50675673,\n",
       "       0.48584291, 0.48680812, 0.49710437, 0.5151223 , 0.50353927,\n",
       "       0.49839115, 0.50804376, 0.50772194, 0.49227806, 0.46685976,\n",
       "       0.50128703, 0.5157657 , 0.51415709, 0.50900897, 0.57142861,\n",
       "       0.58944654, 0.592664  , 0.64414424, 0.61583006, 0.58590727,\n",
       "       0.5871943 , 0.58848133, 0.57464606, 0.510296  , 0.51093939,\n",
       "       0.44852   ])"
      ]
     },
     "execution_count": 19,
     "metadata": {
      "tags": []
     },
     "output_type": "execute_result"
    }
   ],
   "source": [
    "y_train"
   ]
  },
  {
   "cell_type": "markdown",
   "metadata": {
    "id": "w9VvbLbApj0m"
   },
   "source": [
    "## Dimensions"
   ]
  },
  {
   "cell_type": "code",
   "execution_count": null,
   "metadata": {
    "id": "E_b4U1m1pm4T"
   },
   "outputs": [],
   "source": [
    "X_train = reshape(X_train, (X_train.shape[0], X_train.shape[1], 1))"
   ]
  },
  {
   "cell_type": "code",
   "execution_count": null,
   "metadata": {
    "colab": {
     "base_uri": "https://localhost:8080/"
    },
    "id": "tvXnO3YCvME0",
    "outputId": "31c1c653-0443-49ed-b325-1ed04a197764"
   },
   "outputs": [
    {
     "data": {
      "text/plain": [
       "(941, 60, 1)"
      ]
     },
     "execution_count": 21,
     "metadata": {
      "tags": []
     },
     "output_type": "execute_result"
    }
   ],
   "source": [
    "X_train.shape"
   ]
  },
  {
   "cell_type": "markdown",
   "metadata": {
    "id": "C_sXSuqfmWhB"
   },
   "source": [
    "# 1st NN"
   ]
  },
  {
   "cell_type": "markdown",
   "metadata": {
    "id": "5FzAEmpurxIy"
   },
   "source": [
    "## Modelization"
   ]
  },
  {
   "cell_type": "code",
   "execution_count": null,
   "metadata": {
    "id": "IVym147PmVeF"
   },
   "outputs": [],
   "source": [
    "model1 = Sequential()\n",
    "\n",
    "#Input layer\n",
    "#50 neurals, 20% dropout\n",
    "model1.add(LSTM(units = 50, return_sequences = True, input_shape = (X_train.shape[1], 1)))\n",
    "model1.add(Dropout(0.2))\n",
    "\n",
    "#3 hidden layers\n",
    "#50 neurals, 20% dropout\n",
    "for i in range (2):\n",
    "  model1.add(LSTM(units = 50, return_sequences = True))\n",
    "  model1.add(Dropout(0.2))\n",
    "model1.add(LSTM(units = 50, return_sequences = False))\n",
    "model1.add(Dropout(0.2))\n",
    "\n",
    "#Output layer\n",
    "#1 neural\n",
    "model1.add(Dense(units = 1))\n",
    "\n",
    "#Compilation\n",
    "#optimizer : Adam, loss: MSE\n",
    "model1.compile(optimizer = 'adam', loss = 'mean_squared_error')"
   ]
  },
  {
   "cell_type": "code",
   "execution_count": null,
   "metadata": {
    "colab": {
     "base_uri": "https://localhost:8080/"
    },
    "id": "hi_0eUmyoTSV",
    "outputId": "dd52ed3d-950c-49bb-c8e4-09ae3b8a4d7a"
   },
   "outputs": [
    {
     "name": "stdout",
     "output_type": "stream",
     "text": [
      "Model: \"sequential\"\n",
      "_________________________________________________________________\n",
      "Layer (type)                 Output Shape              Param #   \n",
      "=================================================================\n",
      "lstm (LSTM)                  (None, 60, 50)            10400     \n",
      "_________________________________________________________________\n",
      "dropout (Dropout)            (None, 60, 50)            0         \n",
      "_________________________________________________________________\n",
      "lstm_1 (LSTM)                (None, 60, 50)            20200     \n",
      "_________________________________________________________________\n",
      "dropout_1 (Dropout)          (None, 60, 50)            0         \n",
      "_________________________________________________________________\n",
      "lstm_2 (LSTM)                (None, 60, 50)            20200     \n",
      "_________________________________________________________________\n",
      "dropout_2 (Dropout)          (None, 60, 50)            0         \n",
      "_________________________________________________________________\n",
      "lstm_3 (LSTM)                (None, 50)                20200     \n",
      "_________________________________________________________________\n",
      "dropout_3 (Dropout)          (None, 50)                0         \n",
      "_________________________________________________________________\n",
      "dense (Dense)                (None, 1)                 51        \n",
      "=================================================================\n",
      "Total params: 71,051\n",
      "Trainable params: 71,051\n",
      "Non-trainable params: 0\n",
      "_________________________________________________________________\n"
     ]
    }
   ],
   "source": [
    "model1.summary()"
   ]
  },
  {
   "cell_type": "code",
   "execution_count": null,
   "metadata": {
    "colab": {
     "base_uri": "https://localhost:8080/",
     "height": 953
    },
    "id": "tAvz3q0jofTe",
    "outputId": "fd520c34-e59b-4dbb-92ed-abb29efd61d3"
   },
   "outputs": [
    {
     "data": {
      "image/png": "[encoded data removed]",
      "text/plain": [
       "<IPython.core.display.Image object>"
      ]
     },
     "execution_count": 26,
     "metadata": {
      "tags": []
     },
     "output_type": "execute_result"
    }
   ],
   "source": [
    "plot_model(model1)"
   ]
  },
  {
   "cell_type": "code",
   "execution_count": null,
   "metadata": {
    "colab": {
     "base_uri": "https://localhost:8080/"
    },
    "id": "NBD72nA7ozJd",
    "outputId": "f6d7b45c-4476-49ba-f4ac-75e9c42a1644"
   },
   "outputs": [
    {
     "name": "stdout",
     "output_type": "stream",
     "text": [
      "Epoch 1/50\n",
      "30/30 [==============================] - 10s 104ms/step - loss: 0.0888\n",
      "Epoch 2/50\n",
      "30/30 [==============================] - 3s 108ms/step - loss: 0.0260\n",
      "Epoch 3/50\n",
      "30/30 [==============================] - 3s 107ms/step - loss: 0.0258\n",
      "Epoch 4/50\n",
      "30/30 [==============================] - 3s 107ms/step - loss: 0.0218\n",
      "Epoch 5/50\n",
      "30/30 [==============================] - 3s 107ms/step - loss: 0.0224\n",
      "Epoch 6/50\n",
      "30/30 [==============================] - 3s 110ms/step - loss: 0.0129\n",
      "Epoch 7/50\n",
      "30/30 [==============================] - 3s 108ms/step - loss: 0.0171\n",
      "Epoch 8/50\n",
      "30/30 [==============================] - 3s 109ms/step - loss: 0.0119\n",
      "Epoch 9/50\n",
      "30/30 [==============================] - 3s 108ms/step - loss: 0.0120\n",
      "Epoch 10/50\n",
      "30/30 [==============================] - 3s 109ms/step - loss: 0.0119\n",
      "Epoch 11/50\n",
      "30/30 [==============================] - 3s 111ms/step - loss: 0.0114\n",
      "Epoch 12/50\n",
      "30/30 [==============================] - 3s 111ms/step - loss: 0.0113\n",
      "Epoch 13/50\n",
      "30/30 [==============================] - 3s 111ms/step - loss: 0.0118\n",
      "Epoch 14/50\n",
      "30/30 [==============================] - 3s 111ms/step - loss: 0.0114\n",
      "Epoch 15/50\n",
      "30/30 [==============================] - 3s 111ms/step - loss: 0.0133\n",
      "Epoch 16/50\n",
      "30/30 [==============================] - 3s 113ms/step - loss: 0.0101\n",
      "Epoch 17/50\n",
      "30/30 [==============================] - 3s 110ms/step - loss: 0.0088\n",
      "Epoch 18/50\n",
      "30/30 [==============================] - 3s 109ms/step - loss: 0.0087\n",
      "Epoch 19/50\n",
      "30/30 [==============================] - 3s 109ms/step - loss: 0.0107\n",
      "Epoch 20/50\n",
      "30/30 [==============================] - 3s 109ms/step - loss: 0.0124\n",
      "Epoch 21/50\n",
      "30/30 [==============================] - 3s 108ms/step - loss: 0.0084\n",
      "Epoch 22/50\n",
      "30/30 [==============================] - 3s 111ms/step - loss: 0.0082\n",
      "Epoch 23/50\n",
      "30/30 [==============================] - 3s 107ms/step - loss: 0.0085\n",
      "Epoch 24/50\n",
      "30/30 [==============================] - 3s 109ms/step - loss: 0.0093\n",
      "Epoch 25/50\n",
      "30/30 [==============================] - 3s 110ms/step - loss: 0.0083\n",
      "Epoch 26/50\n",
      "30/30 [==============================] - 3s 110ms/step - loss: 0.0078\n",
      "Epoch 27/50\n",
      "30/30 [==============================] - 3s 109ms/step - loss: 0.0072\n",
      "Epoch 28/50\n",
      "30/30 [==============================] - 3s 113ms/step - loss: 0.0073\n",
      "Epoch 29/50\n",
      "30/30 [==============================] - 3s 110ms/step - loss: 0.0087\n",
      "Epoch 30/50\n",
      "30/30 [==============================] - 3s 111ms/step - loss: 0.0063\n",
      "Epoch 31/50\n",
      "30/30 [==============================] - 3s 111ms/step - loss: 0.0066\n",
      "Epoch 32/50\n",
      "30/30 [==============================] - 3s 110ms/step - loss: 0.0066\n",
      "Epoch 33/50\n",
      "30/30 [==============================] - 3s 111ms/step - loss: 0.0072\n",
      "Epoch 34/50\n",
      "30/30 [==============================] - 3s 110ms/step - loss: 0.0080\n",
      "Epoch 35/50\n",
      "30/30 [==============================] - 3s 110ms/step - loss: 0.0071\n",
      "Epoch 36/50\n",
      "30/30 [==============================] - 3s 108ms/step - loss: 0.0058\n",
      "Epoch 37/50\n",
      "30/30 [==============================] - 3s 112ms/step - loss: 0.0066\n",
      "Epoch 38/50\n",
      "30/30 [==============================] - 3s 110ms/step - loss: 0.0065\n",
      "Epoch 39/50\n",
      "30/30 [==============================] - 3s 109ms/step - loss: 0.0060\n",
      "Epoch 40/50\n",
      "30/30 [==============================] - 3s 111ms/step - loss: 0.0057\n",
      "Epoch 41/50\n",
      "30/30 [==============================] - 3s 109ms/step - loss: 0.0054\n",
      "Epoch 42/50\n",
      "30/30 [==============================] - 3s 111ms/step - loss: 0.0060\n",
      "Epoch 43/50\n",
      "30/30 [==============================] - 3s 112ms/step - loss: 0.0059\n",
      "Epoch 44/50\n",
      "30/30 [==============================] - 3s 108ms/step - loss: 0.0065\n",
      "Epoch 45/50\n",
      "30/30 [==============================] - 3s 108ms/step - loss: 0.0059\n",
      "Epoch 46/50\n",
      "30/30 [==============================] - 3s 109ms/step - loss: 0.0057\n",
      "Epoch 47/50\n",
      "30/30 [==============================] - 3s 109ms/step - loss: 0.0054\n",
      "Epoch 48/50\n",
      "30/30 [==============================] - 3s 109ms/step - loss: 0.0067\n",
      "Epoch 49/50\n",
      "30/30 [==============================] - 3s 111ms/step - loss: 0.0050\n",
      "Epoch 50/50\n",
      "30/30 [==============================] - 3s 108ms/step - loss: 0.0050\n"
     ]
    },
    {
     "data": {
      "text/plain": [
       "<tensorflow.python.keras.callbacks.History at 0x7f2d78d06210>"
      ]
     },
     "execution_count": 27,
     "metadata": {
      "tags": []
     },
     "output_type": "execute_result"
    }
   ],
   "source": [
    "model1.fit(x = X_train, y = y_train, batch_size = 32, epochs = 50)"
   ]
  },
  {
   "cell_type": "code",
   "execution_count": null,
   "metadata": {
    "colab": {
     "base_uri": "https://localhost:8080/"
    },
    "id": "Fv2iI0sIx5Ry",
    "outputId": "6fbbc128-faa2-449d-b87f-e6d24a28773c"
   },
   "outputs": [
    {
     "data": {
      "text/plain": [
       "(941, 1)"
      ]
     },
     "execution_count": 28,
     "metadata": {
      "tags": []
     },
     "output_type": "execute_result"
    }
   ],
   "source": [
    "model1.predict(X_train).shape"
   ]
  },
  {
   "cell_type": "code",
   "execution_count": null,
   "metadata": {
    "colab": {
     "base_uri": "https://localhost:8080/"
    },
    "id": "oaQAq_GSyb0R",
    "outputId": "87f3213f-d6bf-48ba-9bbb-244714deae9b"
   },
   "outputs": [
    {
     "data": {
      "text/plain": [
       "(941, 60, 1)"
      ]
     },
     "execution_count": 29,
     "metadata": {
      "tags": []
     },
     "output_type": "execute_result"
    }
   ],
   "source": [
    "X_train.shape"
   ]
  },
  {
   "cell_type": "markdown",
   "metadata": {
    "id": "FHonfPFor1Kj"
   },
   "source": [
    "## Predictions & assesment"
   ]
  },
  {
   "cell_type": "markdown",
   "metadata": {
    "id": "GWBggVLzB_np"
   },
   "source": [
    "Rk : The notebook viewed in class and most of basic LSTM examples found in Internet use y_test(n) to predict y_test(n+1). In order to build a realistic predictive model we must use y_pred(n) to predict y_test(n+1)!"
   ]
  },
  {
   "cell_type": "code",
   "execution_count": null,
   "metadata": {
    "id": "OyJjNCEGr-0Z"
   },
   "outputs": [],
   "source": [
    "def get_predictions(n, X_train, y_train, model) :\n",
    "  \n",
    "  y = zeros(n) #output\n",
    "  last_y = y_train[- 1] #not in X_train!\n",
    "  last_X = X_train[-1, :, 0]\n",
    "\n",
    "  for i in range(n):\n",
    "    Xtest = zeros(last_X.shape)\n",
    "    Xtest[1:] = last_X[1:]\n",
    "    Xtest[0] = last_y\n",
    "    tmp = model.predict(Xtest.reshape(1, X_train.shape[1], 1))\n",
    "    last_X = Xtest\n",
    "    last_y = tmp[0]\n",
    "    y[i] = last_y\n",
    "\n",
    "  return array(y)"
   ]
  },
  {
   "cell_type": "code",
   "execution_count": null,
   "metadata": {
    "id": "iKCzRvn3vzFd"
   },
   "outputs": [],
   "source": [
    "y_pred_invscaled = (max_y - min_y) * get_predictions(len(y_test), X_train, y_train, model1) + min_y"
   ]
  },
  {
   "cell_type": "code",
   "execution_count": null,
   "metadata": {
    "colab": {
     "base_uri": "https://localhost:8080/"
    },
    "id": "D8v2m_jdEtH7",
    "outputId": "8e0fba49-9236-4df1-b62d-36fde9d3e542"
   },
   "outputs": [
    {
     "data": {
      "text/plain": [
       "array([81.95320154, 82.75608415, 82.89126013, 82.91404233, 82.91788259,\n",
       "       82.91852726, 82.91864027, 82.91865879, 82.91866064, 82.91866064,\n",
       "       82.91866064, 82.91866064, 82.91866064, 82.91866064, 82.91866064,\n",
       "       82.91866064, 82.91866064, 82.91866064, 82.91866064, 82.91866064,\n",
       "       82.91866064, 82.91866064, 82.91866064, 82.91866064, 82.91866064,\n",
       "       82.91866064, 82.91866064, 82.91866064, 82.91866064, 82.91866064,\n",
       "       82.91866064, 82.91866064, 82.91866064, 82.91866064, 82.91866064,\n",
       "       82.91866064, 82.91866064, 82.91866064, 82.91866064, 82.91866064])"
      ]
     },
     "execution_count": 56,
     "metadata": {
      "tags": []
     },
     "output_type": "execute_result"
    }
   ],
   "source": [
    "y_pred_invscaled"
   ]
  },
  {
   "cell_type": "code",
   "execution_count": null,
   "metadata": {
    "colab": {
     "base_uri": "https://localhost:8080/"
    },
    "id": "I7ZVUtm_FBOV",
    "outputId": "9161b2e5-6c16-4d4f-985c-40dbe31f75d7"
   },
   "outputs": [
    {
     "data": {
      "text/plain": [
       "array([79.        , 78.98999786, 78.51000214, 77.72000122, 78.79000092,\n",
       "       79.23999786, 79.19000244, 79.02999878, 80.97000122, 81.52999878,\n",
       "       81.62999725, 83.23000336, 82.34999847, 81.41999817, 81.45999908,\n",
       "       81.5       , 81.06999969, 79.06999969, 79.08999634, 77.15000153,\n",
       "       78.20999908, 78.59999847, 77.73000336, 78.83000183, 80.01000214,\n",
       "       80.76999664, 80.58000183, 79.45999908, 77.80999756, 78.16000366,\n",
       "       78.54000092, 78.04000092, 78.77999878, 78.23999786, 77.01000214,\n",
       "       76.30000305, 76.62000275, 76.62999725, 75.65000153, 75.80000305])"
      ]
     },
     "execution_count": 57,
     "metadata": {
      "tags": []
     },
     "output_type": "execute_result"
    }
   ],
   "source": [
    "y_test"
   ]
  },
  {
   "cell_type": "code",
   "execution_count": null,
   "metadata": {
    "colab": {
     "base_uri": "https://localhost:8080/"
    },
    "id": "S4Cp-qfsCmzz",
    "outputId": "a11aea05-02a3-4b97-fa28-5efe4bbbc336"
   },
   "outputs": [
    {
     "name": "stdout",
     "output_type": "stream",
     "text": [
      "##########R2########\n",
      "-772.7387528610018\n",
      "########MSE#########\n",
      "17.90465912045309\n",
      "######RMSE########\n",
      "4.231389738661885\n"
     ]
    }
   ],
   "source": [
    "print(\"##########R2########\")\n",
    "print(r2_score(y_pred_invscaled, y_test))\n",
    "print(\"########MSE#########\")\n",
    "print(mean_squared_error(y_pred_invscaled, y_test))\n",
    "print(\"######RMSE########\")\n",
    "print(sqrt(mean_squared_error(y_pred_invscaled, y_test)))"
   ]
  },
  {
   "cell_type": "code",
   "execution_count": null,
   "metadata": {
    "colab": {
     "base_uri": "https://localhost:8080/",
     "height": 350
    },
    "id": "im3H9n1cGrM3",
    "outputId": "92137a0f-6e35-4c26-9c19-fee003d8e7be"
   },
   "outputs": [
    {
     "data": {
      "image/png": "[encoded data removed]",
      "text/plain": [
       "<Figure size 1080x360 with 1 Axes>"
      ]
     },
     "metadata": {
      "needs_background": "light",
      "tags": []
     },
     "output_type": "display_data"
    }
   ],
   "source": [
    "figure(figsize=(15,5))\n",
    "plot(y_test, color = 'red', label = 'Valeur réelle action')\n",
    "plot(y_pred_invscaled, color = 'blue', label = 'Valeur prédite action')\n",
    "title('Prediction valeur action RNN')\n",
    "xlabel('Time')\n",
    "ylabel('Prix action')\n",
    "legend()\n",
    "show()"
   ]
  },
  {
   "cell_type": "markdown",
   "metadata": {
    "id": "fXwWSk9gIGs8"
   },
   "source": [
    "Rk:\n",
    "\n",
    "- The r2 is not even in 0-1, it tells us that we should predict y_test by its mean (that we could not compute in a true prediction model).\n",
    "\n",
    "- Because of the use of predictions to predict, the model stucks itself at a point and starts predicting always the same thing..."
   ]
  },
  {
   "cell_type": "markdown",
   "metadata": {
    "id": "P15B7wEHIp4X"
   },
   "source": [
    "**DO NOT RUN**\n",
    "\n",
    "# Tuned NN\n",
    "\n",
    "**DO NOT RUN**"
   ]
  },
  {
   "cell_type": "markdown",
   "metadata": {
    "id": "AAK8cZ4GrAuJ"
   },
   "source": [
    "## Validation data set"
   ]
  },
  {
   "cell_type": "code",
   "execution_count": null,
   "metadata": {
    "id": "2nHc0hXgt7MF"
   },
   "outputs": [],
   "source": [
    "X_val = X_train[-40:, :]\n",
    "y_val = y_train[-40:]"
   ]
  },
  {
   "cell_type": "code",
   "execution_count": null,
   "metadata": {
    "id": "bPyX93PXuD6U"
   },
   "outputs": [],
   "source": [
    "X_train2 = X_train[:-40, :]\n",
    "y_train2 = y_train[:-40]"
   ]
  },
  {
   "cell_type": "code",
   "execution_count": null,
   "metadata": {
    "colab": {
     "base_uri": "https://localhost:8080/"
    },
    "id": "w-LrREF3uP5x",
    "outputId": "9d694951-7acb-4135-eea4-d3085a51109d"
   },
   "outputs": [
    {
     "data": {
      "text/plain": [
       "(40, 60, 1)"
      ]
     },
     "execution_count": 24,
     "metadata": {
      "tags": []
     },
     "output_type": "execute_result"
    }
   ],
   "source": [
    "X_val.shape"
   ]
  },
  {
   "cell_type": "code",
   "execution_count": null,
   "metadata": {
    "colab": {
     "base_uri": "https://localhost:8080/"
    },
    "id": "IpCBZuePuRkz",
    "outputId": "c4039907-aa6a-433c-c33c-1be912442844"
   },
   "outputs": [
    {
     "data": {
      "text/plain": [
       "(901, 60, 1)"
      ]
     },
     "execution_count": 25,
     "metadata": {
      "tags": []
     },
     "output_type": "execute_result"
    }
   ],
   "source": [
    "X_train2.shape"
   ]
  },
  {
   "cell_type": "code",
   "execution_count": null,
   "metadata": {
    "colab": {
     "base_uri": "https://localhost:8080/"
    },
    "id": "_Bx3MAGXvEXf",
    "outputId": "a2f93718-9d0d-4a9c-912b-fec3bcb2755e"
   },
   "outputs": [
    {
     "data": {
      "text/plain": [
       "(941, 60, 1)"
      ]
     },
     "execution_count": 26,
     "metadata": {
      "tags": []
     },
     "output_type": "execute_result"
    }
   ],
   "source": [
    "X_train.shape"
   ]
  },
  {
   "cell_type": "markdown",
   "metadata": {
    "id": "U2rAlaxuJCIC"
   },
   "source": [
    "## Architecture"
   ]
  },
  {
   "cell_type": "code",
   "execution_count": null,
   "metadata": {
    "id": "aSpawsdlIzTG"
   },
   "outputs": [],
   "source": [
    "## CHANGE tuning params here\n",
    "max_trials = 15\n",
    "executions_per_trial = 3\n",
    "epochs = 30 #will be tuned later\n",
    "dir = \"\"\n",
    "name = \"final\""
   ]
  },
  {
   "cell_type": "code",
   "execution_count": null,
   "metadata": {
    "id": "ZzTzPAusJBbE"
   },
   "outputs": [],
   "source": [
    "def build_model(hp):\n",
    "    #Sequental NN\n",
    "    model = Sequential()\n",
    "    #1 input layer with 60 units\n",
    "    model.add(LSTM(units = 60, activation = \"tanh\", input_shape = (X_train.shape[1], 1), return_sequences=True))\n",
    "    #Between 0 & 9 hidden layers\n",
    "    for i in range(hp.Int('num_layers', 0, 9)):\n",
    "        #between 10 & 50 neurals\n",
    "        model.add(LSTM(units=hp.Int('units_' + str(i),\n",
    "                                            min_value=10,\n",
    "                                            max_value=50),\n",
    "                              activation='tanh',\n",
    "                              recurrent_activation = \"sigmoid\",\n",
    "                              return_sequences = True,\n",
    "                              recurrent_dropout = hp.Choice('dropout', [0., 0.1, 0.25, 0.5])))\n",
    "    #1 hidden layer with 1 state\n",
    "    model.add(LSTM(units=hp.Int('units_' + 'last',\n",
    "                                            min_value=10,\n",
    "                                            max_value=50),\n",
    "                              activation='tanh',\n",
    "                              recurrent_activation = \"sigmoid\",\n",
    "                              recurrent_dropout = hp.Choice('dropout', [0., 0.1, 0.25, 0.5])))\n",
    "    \n",
    "    #Final layer activation = relu\n",
    "    model.add(Dense(1, activation=\"tanh\"))\n",
    "    #Different learning rates\n",
    "    model.compile(\n",
    "        optimizer=keras.optimizers.Adam(\n",
    "          hp.Choice('learning_rate', [1e-3, 1e-2, 1e-1])),\n",
    "        loss='mean_squared_error')\n",
    "    \n",
    "    return model"
   ]
  },
  {
   "cell_type": "code",
   "execution_count": null,
   "metadata": {
    "id": "_29VEeEGMmiX"
   },
   "outputs": [],
   "source": [
    "tuner = RandomSearch(\n",
    "    build_model,\n",
    "    objective = \"val_loss\",\n",
    "    max_trials=max_trials,\n",
    "    executions_per_trial=executions_per_trial,\n",
    "    directory=dir,\n",
    "    project_name=name)"
   ]
  },
  {
   "cell_type": "code",
   "execution_count": null,
   "metadata": {
    "colab": {
     "base_uri": "https://localhost:8080/"
    },
    "id": "5tYk67csOIM0",
    "outputId": "ca703810-f2cd-48eb-baa4-abfa3104d2d7"
   },
   "outputs": [
    {
     "name": "stdout",
     "output_type": "stream",
     "text": [
      "Search space summary\n",
      "Default search space size: 4\n",
      "num_layers (Int)\n",
      "{'default': None, 'conditions': [], 'min_value': 0, 'max_value': 9, 'step': 1, 'sampling': None}\n",
      "units_last (Int)\n",
      "{'default': None, 'conditions': [], 'min_value': 10, 'max_value': 50, 'step': 1, 'sampling': None}\n",
      "dropout (Choice)\n",
      "{'default': 0.0, 'conditions': [], 'values': [0.0, 0.1, 0.25, 0.5], 'ordered': True}\n",
      "learning_rate (Choice)\n",
      "{'default': 0.001, 'conditions': [], 'values': [0.001, 0.01, 0.1], 'ordered': True}\n"
     ]
    }
   ],
   "source": [
    "tuner.search_space_summary()"
   ]
  },
  {
   "cell_type": "code",
   "execution_count": null,
   "metadata": {
    "id": "lRrRLLS_ONyz"
   },
   "outputs": [],
   "source": [
    "tuner.search(X_train, y_train, validation_data = (X_val, y_val), epochs = epochs)"
   ]
  },
  {
   "cell_type": "code",
   "execution_count": null,
   "metadata": {
    "id": "SEvYUlkIxRwT"
   },
   "outputs": [],
   "source": [
    "best_hps=tuner.get_best_hyperparameters()[0]\n",
    "model = tuner.hypermodel.build(best_hps)"
   ]
  },
  {
   "cell_type": "code",
   "execution_count": null,
   "metadata": {
    "id": "UFfi1eI9xSyV"
   },
   "outputs": [],
   "source": [
    "#SAVE\n",
    "###################\n",
    "##DO NOT RUN#######\n",
    "###################\n",
    "model = tuner.hypermodel.build(best_hps)\n",
    "model_json = model.to_json()\n",
    "with open(\"model_rnn.json\", \"w\") as json_file:\n",
    "    json_file.write(model_json)\n",
    "with open(\"/content/drive/MyDrive/\"+\"model_rnn.json\", \"w\") as json_file:\n",
    "    json_file.write(model_json)"
   ]
  },
  {
   "cell_type": "code",
   "execution_count": null,
   "metadata": {
    "colab": {
     "base_uri": "https://localhost:8080/"
    },
    "id": "LQdXTlKVc4m4",
    "outputId": "fc6e5e3c-a9a1-457a-a32c-6d3e304da9e6"
   },
   "outputs": [
    {
     "name": "stdout",
     "output_type": "stream",
     "text": [
      "Results summary\n",
      "Results in ./final\n",
      "Showing 10 best trials\n",
      "Objective(name='val_loss', direction='min')\n",
      "Trial summary\n",
      "Hyperparameters:\n",
      "num_layers: 7\n",
      "units_last: 24\n",
      "dropout: 0.5\n",
      "learning_rate: 0.001\n",
      "units_0: 24\n",
      "units_1: 45\n",
      "units_2: 36\n",
      "units_3: 47\n",
      "units_4: 18\n",
      "units_5: 10\n",
      "units_6: 10\n",
      "Score: 0.002473225506643454\n",
      "Trial summary\n",
      "Hyperparameters:\n",
      "num_layers: 2\n",
      "units_last: 30\n",
      "dropout: 0.0\n",
      "learning_rate: 0.01\n",
      "units_0: 14\n",
      "units_1: 15\n",
      "units_2: 41\n",
      "units_3: 13\n",
      "units_4: 33\n",
      "units_5: 17\n",
      "units_6: 45\n",
      "units_7: 49\n",
      "Score: 0.002944613302436968\n",
      "Trial summary\n",
      "Hyperparameters:\n",
      "num_layers: 4\n",
      "units_last: 38\n",
      "dropout: 0.0\n",
      "learning_rate: 0.01\n",
      "units_0: 20\n",
      "units_1: 15\n",
      "units_2: 15\n",
      "units_3: 16\n",
      "units_4: 19\n",
      "units_5: 35\n",
      "units_6: 28\n",
      "units_7: 12\n",
      "Score: 0.0029875849528859058\n",
      "Trial summary\n",
      "Hyperparameters:\n",
      "num_layers: 5\n",
      "units_last: 18\n",
      "dropout: 0.25\n",
      "learning_rate: 0.01\n",
      "units_0: 19\n",
      "units_1: 17\n",
      "units_2: 46\n",
      "units_3: 48\n",
      "units_4: 16\n",
      "Score: 0.0030040330408761897\n",
      "Trial summary\n",
      "Hyperparameters:\n",
      "num_layers: 3\n",
      "units_last: 49\n",
      "dropout: 0.5\n",
      "learning_rate: 0.001\n",
      "units_0: 29\n",
      "units_1: 40\n",
      "units_2: 50\n",
      "units_3: 27\n",
      "units_4: 14\n",
      "units_5: 35\n",
      "units_6: 15\n",
      "Score: 0.0035008115228265524\n",
      "Trial summary\n",
      "Hyperparameters:\n",
      "num_layers: 5\n",
      "units_last: 47\n",
      "dropout: 0.1\n",
      "learning_rate: 0.01\n",
      "units_0: 41\n",
      "units_1: 27\n",
      "units_2: 12\n",
      "units_3: 32\n",
      "units_4: 11\n",
      "units_5: 13\n",
      "units_6: 19\n",
      "Score: 0.003710393328219652\n",
      "Trial summary\n",
      "Hyperparameters:\n",
      "num_layers: 4\n",
      "units_last: 33\n",
      "dropout: 0.25\n",
      "learning_rate: 0.01\n",
      "units_0: 43\n",
      "units_1: 38\n",
      "units_2: 35\n",
      "units_3: 38\n",
      "units_4: 14\n",
      "Score: 0.0037104239066441855\n",
      "Trial summary\n",
      "Hyperparameters:\n",
      "num_layers: 8\n",
      "units_last: 41\n",
      "dropout: 0.25\n",
      "learning_rate: 0.01\n",
      "units_0: 41\n",
      "units_1: 17\n",
      "units_2: 16\n",
      "units_3: 25\n",
      "units_4: 41\n",
      "units_5: 42\n",
      "units_6: 26\n",
      "units_7: 10\n",
      "Score: 0.0037108426137516894\n",
      "Trial summary\n",
      "Hyperparameters:\n",
      "num_layers: 5\n",
      "units_last: 23\n",
      "dropout: 0.25\n",
      "learning_rate: 0.1\n",
      "units_0: 32\n",
      "units_1: 31\n",
      "units_2: 22\n",
      "units_3: 46\n",
      "units_4: 15\n",
      "units_5: 34\n",
      "units_6: 43\n",
      "units_7: 23\n",
      "Score: 0.003710938539976875\n",
      "Trial summary\n",
      "Hyperparameters:\n",
      "num_layers: 5\n",
      "units_last: 35\n",
      "dropout: 0.25\n",
      "learning_rate: 0.1\n",
      "units_0: 10\n",
      "units_1: 10\n",
      "units_2: 10\n",
      "units_3: 10\n",
      "units_4: 10\n",
      "Score: 0.0037110302752504745\n"
     ]
    }
   ],
   "source": [
    "tuner.results_summary()"
   ]
  },
  {
   "cell_type": "code",
   "execution_count": null,
   "metadata": {
    "colab": {
     "base_uri": "https://localhost:8080/",
     "height": 1000
    },
    "id": "AFopA0WUddC0",
    "outputId": "68bac3ea-ea81-4dc6-b1e7-725db11e4535"
   },
   "outputs": [
    {
     "data": {
      "image/png": "[encoded data removed]",
      "text/plain": [
       "<IPython.core.display.Image object>"
      ]
     },
     "execution_count": 85,
     "metadata": {
      "tags": []
     },
     "output_type": "execute_result"
    }
   ],
   "source": [
    "plot_model(model, show_shapes=True, show_layer_names=True)"
   ]
  },
  {
   "cell_type": "markdown",
   "metadata": {
    "id": "CbOIv3aHdtIU"
   },
   "source": [
    "## Learning parameters tuning"
   ]
  },
  {
   "cell_type": "code",
   "execution_count": null,
   "metadata": {
    "id": "jBCJVYSYJRpb"
   },
   "outputs": [],
   "source": [
    "json_file = open('/content/drive/MyDrive/model_rnn.json', 'r')\n",
    "loaded_model_json = json_file.read()\n",
    "json_file.close()\n",
    "loaded_model = model_from_json(loaded_model_json)\n",
    "# load weights into new model\n",
    "model = loaded_model\n",
    "model.compile(optimizer=keras.optimizers.Adam(learning_rate=1e-3), loss='mean_squared_error')"
   ]
  },
  {
   "cell_type": "code",
   "execution_count": null,
   "metadata": {
    "colab": {
     "base_uri": "https://localhost:8080/"
    },
    "id": "7SMU7t8tePEl",
    "outputId": "2e522a17-8270-446c-a6d7-03933b56d127"
   },
   "outputs": [
    {
     "name": "stdout",
     "output_type": "stream",
     "text": [
      "######################\n",
      "batch size:  50\n",
      "Best epoch: 7\n",
      "Corresponding val MSE : 0.038209278136491776\n",
      "Iteration finished, time ellapsed: 1200.2007427215576\n",
      "Total time ellapsed: 1200.2007427215576\n",
      "######################\n",
      "######################\n",
      "batch size:  100\n",
      "Best epoch: 37\n",
      "Corresponding val MSE : 0.003046163124963641\n",
      "Iteration finished, time ellapsed: 758.5945191383362\n",
      "Total time ellapsed: 1958.7952618598938\n",
      "######################\n",
      "######################\n",
      "batch size:  200\n",
      "Best epoch: 139\n",
      "Corresponding val MSE : 0.0021734151523560286\n",
      "Iteration finished, time ellapsed: 535.2953810691833\n",
      "Total time ellapsed: 2494.090642929077\n",
      "######################\n",
      "_______________________\n",
      "_______________________\n",
      "[[7, 0.038209278136491776], [37, 0.003046163124963641], [139, 0.0021734151523560286]]\n"
     ]
    }
   ],
   "source": [
    "summary = []\n",
    "params = [50, 100, 200]\n",
    "start_time = time.time()\n",
    "total_time = 0\n",
    "for param in  params:\n",
    "  #Info\n",
    "  print(\"######################\")\n",
    "  print(\"batch size: \", param)\n",
    "\n",
    "  history = model.fit(X_train, \n",
    "                      y_train, \n",
    "                      epochs=150, \n",
    "                      validation_data = (X_val, y_val), \n",
    "                      batch_size = param, \n",
    "                      verbose = 0,\n",
    "                      workers = 4,\n",
    "                      use_multiprocessing = True)\n",
    "  \n",
    "  val_loss_per_epoch = history.history['val_loss']\n",
    "  best_epoch = val_loss_per_epoch.index(max(val_loss_per_epoch)) + 1\n",
    "  summary.append([best_epoch, max(val_loss_per_epoch)])\n",
    "\n",
    "  #Info\n",
    "  print('Best epoch: %d' % (best_epoch,))\n",
    "  print(\"Corresponding val MSE :\", max(val_loss_per_epoch))\n",
    "  current_time = time.time()\n",
    "  print(\"Iteration finished, time ellapsed:\", current_time - start_time)\n",
    "  total_time += current_time - start_time\n",
    "  print(\"Total time ellapsed:\", total_time)\n",
    "  start_time = current_time\n",
    "  print(\"######################\")\n",
    "  \n",
    "\n",
    "print(\"_______________________\")\n",
    "print(\"_______________________\")\n",
    "print(summary)"
   ]
  },
  {
   "cell_type": "code",
   "execution_count": null,
   "metadata": {
    "id": "E3FVOZlkePNj"
   },
   "outputs": [],
   "source": [
    "def plot_learning_information(info, name, plot_title):\n",
    "  figure(figsize = (10,10))\n",
    "  plot(range(1, len(info)+1), info)\n",
    "  title(plot_title)\n",
    "  xlabel(\"Number of epochs\")\n",
    "  ylabel(name)\n",
    "  show()"
   ]
  },
  {
   "cell_type": "code",
   "execution_count": null,
   "metadata": {
    "colab": {
     "base_uri": "https://localhost:8080/",
     "height": 621
    },
    "id": "FxljjnVgePQW",
    "outputId": "8951495d-91a6-47d4-d938-670fc4c955ff"
   },
   "outputs": [
    {
     "data": {
      "image/png": "[encoded data removed]",
      "text/plain": [
       "<Figure size 720x720 with 1 Axes>"
      ]
     },
     "metadata": {
      "needs_background": "light",
      "tags": []
     },
     "output_type": "display_data"
    }
   ],
   "source": [
    "plot_learning_information(val_loss_per_epoch, \"Validation Los\", \"Validation Accuracy ~ Epoch\")"
   ]
  },
  {
   "cell_type": "code",
   "execution_count": null,
   "metadata": {
    "colab": {
     "base_uri": "https://localhost:8080/"
    },
    "id": "vZwbXR4bUpno",
    "outputId": "c1f02df7-0992-4df7-cbeb-c9c563c3dd64"
   },
   "outputs": [
    {
     "name": "stdout",
     "output_type": "stream",
     "text": [
      "7\n",
      "50\n",
      "Epoch 1/7\n",
      "19/19 [==============================] - 8s 417ms/step - loss: 0.0015 - val_loss: 0.0018\n",
      "Epoch 2/7\n",
      "19/19 [==============================] - 8s 426ms/step - loss: 0.0018 - val_loss: 0.0013\n",
      "Epoch 3/7\n",
      "19/19 [==============================] - 8s 441ms/step - loss: 0.0016 - val_loss: 0.0014\n",
      "Epoch 4/7\n",
      "19/19 [==============================] - 9s 461ms/step - loss: 0.0015 - val_loss: 0.0013\n",
      "Epoch 5/7\n",
      "19/19 [==============================] - 8s 439ms/step - loss: 0.0016 - val_loss: 0.0017\n",
      "Epoch 6/7\n",
      "19/19 [==============================] - 8s 446ms/step - loss: 0.0015 - val_loss: 0.0012\n",
      "Epoch 7/7\n",
      "19/19 [==============================] - 8s 410ms/step - loss: 0.0015 - val_loss: 0.0014\n"
     ]
    },
    {
     "data": {
      "text/plain": [
       "<tensorflow.python.keras.callbacks.History at 0x7f7e1eee7090>"
      ]
     },
     "execution_count": 39,
     "metadata": {
      "tags": []
     },
     "output_type": "execute_result"
    }
   ],
   "source": [
    "summary = array(summary)\n",
    "epoch = int(summary[argmax(summary[:,1]),:][0])\n",
    "print(epoch)\n",
    "batch = int(params[argmax(summary[:,1])])\n",
    "print(batch)\n",
    "model.fit(X_train, \n",
    "          y_train, \n",
    "          epochs=epoch, \n",
    "          validation_data = (X_val, y_val), \n",
    "          batch_size = batch,\n",
    "          workers = 8,\n",
    "          use_multiprocessing = True)"
   ]
  },
  {
   "cell_type": "code",
   "execution_count": null,
   "metadata": {
    "colab": {
     "base_uri": "https://localhost:8080/"
    },
    "id": "3FU8klTQUvlv",
    "outputId": "5dd3ee8e-fec1-4851-927c-65e2c98612ed"
   },
   "outputs": [
    {
     "name": "stdout",
     "output_type": "stream",
     "text": [
      "Saved model to disk\n"
     ]
    }
   ],
   "source": [
    "#SAVE\n",
    "################################\n",
    "############DO NOT RUN##########\n",
    "################################\n",
    "model_json = model.to_json()\n",
    "with open(\"trained_model_rnn.json\", \"w\") as json_file:\n",
    "    json_file.write(model_json)\n",
    "with open(\"/content/drive/MyDrive/\"+\"trained_model_rnn.json\", \"w\") as json_file:\n",
    "    json_file.write(model_json)\n",
    "# serialize weights to HDF5\n",
    "model.save_weights(\"/content/drive/MyDrive/model_rnn.weights\")\n",
    "model.save_weights(\"model_rnn.weights\")\n",
    "print(\"Saved model to disk\")"
   ]
  },
  {
   "cell_type": "markdown",
   "metadata": {
    "id": "MPds9G08VJaF"
   },
   "source": [
    "## Assessment"
   ]
  },
  {
   "cell_type": "code",
   "execution_count": null,
   "metadata": {
    "id": "AssOeixcVLHs"
   },
   "outputs": [],
   "source": [
    "def get_predictions(n, X_train, y_train, model) :\n",
    "  \n",
    "  y = zeros(n) #output\n",
    "  last_y = y_train[- 1] #not in X_train!\n",
    "  last_X = X_train[-1, :, 0]\n",
    "\n",
    "  for i in range(n):\n",
    "    Xtest = zeros(last_X.shape)\n",
    "    Xtest[1:] = last_X[1:]\n",
    "    Xtest[0] = last_y\n",
    "    tmp = model.predict(Xtest.reshape(1, X_train.shape[1], 1))\n",
    "    last_X = Xtest\n",
    "    last_y = tmp[0]\n",
    "    y[i] = last_y\n",
    "\n",
    "  return array(y)"
   ]
  },
  {
   "cell_type": "code",
   "execution_count": null,
   "metadata": {
    "id": "dYYpsryUVSkj"
   },
   "outputs": [],
   "source": [
    "y_pred_invscaled = (max_y - min_y) * get_predictions(len(y_test), X_train, y_train, model) + min_y"
   ]
  },
  {
   "cell_type": "code",
   "execution_count": null,
   "metadata": {
    "colab": {
     "base_uri": "https://localhost:8080/"
    },
    "id": "y-cRFNf6VZzp",
    "outputId": "2714784e-2949-4d88-a112-6a4dfce36bcf"
   },
   "outputs": [
    {
     "name": "stdout",
     "output_type": "stream",
     "text": [
      "##########R2########\n",
      "-37.899305671126136\n",
      "########MSE#########\n",
      "3.7410504455222577\n",
      "######RMSE########\n",
      "1.9341795277383786\n"
     ]
    }
   ],
   "source": [
    "print(\"##########R2########\")\n",
    "print(r2_score(y_pred_invscaled, y_test))\n",
    "print(\"########MSE#########\")\n",
    "print(mean_squared_error(y_pred_invscaled, y_test))\n",
    "print(\"######RMSE########\")\n",
    "print(sqrt(mean_squared_error(y_pred_invscaled, y_test)))"
   ]
  },
  {
   "cell_type": "code",
   "execution_count": null,
   "metadata": {
    "colab": {
     "base_uri": "https://localhost:8080/",
     "height": 369
    },
    "id": "iJ9x-qCcVf3H",
    "outputId": "4ad7ea8e-5a0a-4fb8-a349-13f09f1727f9"
   },
   "outputs": [
    {
     "data": {
      "text/plain": [
       "<matplotlib.legend.Legend at 0x7f7e1ee8d110>"
      ]
     },
     "execution_count": 45,
     "metadata": {
      "tags": []
     },
     "output_type": "execute_result"
    },
    {
     "data": {
      "image/png": "[encoded data removed]",
      "text/plain": [
       "<Figure size 1080x360 with 1 Axes>"
      ]
     },
     "metadata": {
      "needs_background": "light",
      "tags": []
     },
     "output_type": "display_data"
    }
   ],
   "source": [
    "figure(figsize=(15,5))\n",
    "plot(y_test, color = 'red', label = 'Valeur réelle action')\n",
    "plot(y_pred_invscaled, color = 'blue', label = 'Valeur prédite action')\n",
    "title('Prediction valeur action RNN')\n",
    "xlabel('Time')\n",
    "ylabel('Prix action')\n",
    "legend()"
   ]
  },
  {
   "cell_type": "markdown",
   "metadata": {
    "id": "yUBfsQeiVmo2"
   },
   "source": [
    "At least, the tuned model has done better than our prior architecture."
   ]
  }
 ],
 "metadata": {
  "colab": {
   "collapsed_sections": [
    "uTJ4T1b1ritu",
    "xBrV1-uvriwk",
    "LYW27cnLwNzz",
    "AlNOjtvUxYkv",
    "vpeMFkKNxhCe",
    "Uk26DqiH9hhz",
    "EYRZvgBtJ6fe",
    "FQnEuqDyMB3l",
    "Spim87zHe2q7",
    "w9VvbLbApj0m",
    "C_sXSuqfmWhB",
    "5FzAEmpurxIy",
    "P15B7wEHIp4X",
    "AAK8cZ4GrAuJ",
    "U2rAlaxuJCIC",
    "CbOIv3aHdtIU",
    "MPds9G08VJaF"
   ],
   "name": "TP_RNN_part1.ipynb",
   "provenance": [],
   "toc_visible": true
  },
  "kernelspec": {
   "display_name": "Python 3",
   "language": "python",
   "name": "python3"
  },
  "language_info": {
   "codemirror_mode": {
    "name": "ipython",
    "version": 3
   },
   "file_extension": ".py",
   "mimetype": "text/x-python",
   "name": "python",
   "nbconvert_exporter": "python",
   "pygments_lexer": "ipython3",
   "version": "3.8.8"
  }
 },
 "nbformat": 4,
 "nbformat_minor": 1
}
